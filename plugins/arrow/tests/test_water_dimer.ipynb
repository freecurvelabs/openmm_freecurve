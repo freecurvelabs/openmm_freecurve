{
 "cells": [
  {
   "cell_type": "code",
   "execution_count": 5,
   "metadata": {},
   "outputs": [
    {
     "data": {
      "text/plain": [
       "'C:\\\\MYPROG\\\\ARBALEST_GIT\\\\OPENMM_ARROW\\\\plugins\\\\arrow\\\\tests'"
      ]
     },
     "execution_count": 5,
     "metadata": {},
     "output_type": "execute_result"
    }
   ],
   "source": [
    "import os\n",
    "import sys\n",
    "import openmm\n",
    "import openmm.app\n",
    "os.chdir(\"C:\\\\MYPROG\\\\ARBALEST_GIT\\\\OPENMM_ARROW\\\\plugins\\\\arrow\\\\tests\")\n",
    "os.getcwd()"
   ]
  },
  {
   "cell_type": "code",
   "execution_count": 6,
   "metadata": {},
   "outputs": [],
   "source": [
    "pdb = openmm.app.PDBFile(\"wat_2.pdb\")"
   ]
  },
  {
   "cell_type": "code",
   "execution_count": 7,
   "metadata": {},
   "outputs": [
    {
     "data": {
      "text/plain": [
       "6"
      ]
     },
     "execution_count": 7,
     "metadata": {},
     "output_type": "execute_result"
    }
   ],
   "source": [
    "system = openmm.System()\n",
    "system.addParticle(16.0)\n",
    "system.addParticle(1.0)\n",
    "system.addParticle(1.0)\n",
    "system.addParticle(16.0)\n",
    "system.addParticle(1.0)\n",
    "system.addParticle(1.0)\n",
    "system.getNumParticles()"
   ]
  },
  {
   "cell_type": "code",
   "execution_count": 8,
   "metadata": {},
   "outputs": [
    {
     "data": {
      "text/plain": [
       "0"
      ]
     },
     "execution_count": 8,
     "metadata": {},
     "output_type": "execute_result"
    }
   ],
   "source": [
    "frc_a = openmm.ArrowForce() \n",
    "frc_a.setArbalestConfig(\"wat_2_arrow_calc_ene.xml\")\n",
    "system.addForce(frc_a)"
   ]
  },
  {
   "cell_type": "code",
   "execution_count": 9,
   "metadata": {},
   "outputs": [],
   "source": [
    "positions = []\n",
    "positions.append(openmm.Vec3( 0.000, 0.000, 0.000))\n",
    "positions.append(openmm.Vec3( 0.957, 0.000, 0.000))\n",
    "positions.append(openmm.Vec3(-0.240, 0.927, 0.000))\n",
    "positions.append(openmm.Vec3( 3.140,-2.290,-0.960))\n",
    "positions.append(openmm.Vec3( 3.770,-2.360,-0.280))\n",
    "positions.append(openmm.Vec3( 2.780,-3.240,-1.160))\n",
    "\n",
    "a = openmm.Vec3(32.0,  0.0,  0.0)\n",
    "b = openmm.Vec3( 0.0, 32.0,  0.0)\n",
    "c = openmm.Vec3( 0.0,  0.0, 32.0)\n"
   ]
  },
  {
   "cell_type": "code",
   "execution_count": 10,
   "metadata": {},
   "outputs": [],
   "source": [
    "integrator = openmm.VerletIntegrator(1.0)\n",
    "platform = openmm.Platform.getPlatformByName(\"Reference\")\n",
    "#platform.loadPluginsFromDirectory(\"C:\\\\CONDA_WIN_OPENMM_8.1.1_DEV\\\\lib\")\n",
    "#platform.loadPluginsFromDirectory(\"C:\\\\CONDA_WIN_OPENMM_8.1.1_DEV\\\\lib\\\\plugins\")"
   ]
  },
  {
   "cell_type": "code",
   "execution_count": 11,
   "metadata": {},
   "outputs": [],
   "source": [
    "context = openmm.Context(system, integrator, platform)\n",
    "context.setPositions(positions)\n",
    "context.setPeriodicBoxVectors(a, b, c)"
   ]
  },
  {
   "cell_type": "code",
   "execution_count": 14,
   "metadata": {},
   "outputs": [],
   "source": [
    "state = context.getState(getEnergy=True,getForces=True)"
   ]
  },
  {
   "cell_type": "code",
   "execution_count": 13,
   "metadata": {},
   "outputs": [
    {
     "data": {
      "text/plain": [
       "Quantity(value=2.944410824408274, unit=kilojoule/mole)"
      ]
     },
     "execution_count": 13,
     "metadata": {},
     "output_type": "execute_result"
    }
   ],
   "source": [
    "ene=state.getPotentialEnergy()\n",
    "frc=getForces()"
   ]
  },
  {
   "cell_type": "code",
   "execution_count": 15,
   "metadata": {},
   "outputs": [
    {
     "data": {
      "text/plain": [
       "Quantity(value=[Vec3(x=-3.941874478047872, y=-1.2340998589868213, z=0.8393498980900101), Vec3(x=3.623740734729947, y=-1.0183865150735476, z=-1.456198057032311), Vec3(x=0.6198200692857176, y=1.0893759792900894, z=-0.04661124997609575), Vec3(x=-55.48120323541346, y=-54.73736154967988, z=-47.41530319253362), Vec3(x=23.83941427002048, y=-12.594315400807504, z=27.11099684722183), Vec3(x=31.34010263942518, y=68.49478734525766, z=20.967765754230186)], unit=kilojoule/(nanometer*mole))"
      ]
     },
     "execution_count": 15,
     "metadata": {},
     "output_type": "execute_result"
    }
   ],
   "source": [
    "state.getForces()"
   ]
  },
  {
   "cell_type": "code",
   "execution_count": null,
   "metadata": {},
   "outputs": [
    {
     "ename": "",
     "evalue": "",
     "output_type": "error",
     "traceback": [
      "\u001b[1;31mThe Kernel crashed while executing code in the current cell or a previous cell. \n",
      "\u001b[1;31mPlease review the code in the cell(s) to identify a possible cause of the failure. \n",
      "\u001b[1;31mClick <a href='https://aka.ms/vscodeJupyterKernelCrash'>here</a> for more info. \n",
      "\u001b[1;31mView Jupyter <a href='command:jupyter.viewOutput'>log</a> for further details."
     ]
    }
   ],
   "source": [
    "simulation = openmm.app.Simulation(pdb.topology,system,integrator)"
   ]
  },
  {
   "cell_type": "code",
   "execution_count": 7,
   "metadata": {},
   "outputs": [],
   "source": [
    "simulation.context.setPositions(pdb.positions)"
   ]
  },
  {
   "cell_type": "code",
   "execution_count": 12,
   "metadata": {},
   "outputs": [
    {
     "ename": "NameError",
     "evalue": "name 'simulation' is not defined",
     "output_type": "error",
     "traceback": [
      "\u001b[1;31m---------------------------------------------------------------------------\u001b[0m",
      "\u001b[1;31mNameError\u001b[0m                                 Traceback (most recent call last)",
      "Cell \u001b[1;32mIn[12], line 2\u001b[0m\n\u001b[0;32m      1\u001b[0m \u001b[38;5;28;01mimport\u001b[39;00m \u001b[38;5;21;01msys\u001b[39;00m\n\u001b[1;32m----> 2\u001b[0m \u001b[43msimulation\u001b[49m\u001b[38;5;241m.\u001b[39mminimizeEnergy()\n\u001b[0;32m      3\u001b[0m simulation\u001b[38;5;241m.\u001b[39mreporters\u001b[38;5;241m.\u001b[39mappend(openmm\u001b[38;5;241m.\u001b[39mapp\u001b[38;5;241m.\u001b[39mPDBReporter(\u001b[38;5;124m'\u001b[39m\u001b[38;5;124moutput.pdb\u001b[39m\u001b[38;5;124m'\u001b[39m, \u001b[38;5;241m100\u001b[39m))\n\u001b[0;32m      4\u001b[0m simulation\u001b[38;5;241m.\u001b[39mreporters\u001b[38;5;241m.\u001b[39mappend(openmm\u001b[38;5;241m.\u001b[39mapp\u001b[38;5;241m.\u001b[39mStateDataReporter(sys\u001b[38;5;241m.\u001b[39mstdout, \u001b[38;5;241m100\u001b[39m, step\u001b[38;5;241m=\u001b[39m\u001b[38;5;28;01mTrue\u001b[39;00m,\n\u001b[0;32m      5\u001b[0m         potentialEnergy\u001b[38;5;241m=\u001b[39m\u001b[38;5;28;01mTrue\u001b[39;00m, temperature\u001b[38;5;241m=\u001b[39m\u001b[38;5;28;01mTrue\u001b[39;00m))\n",
      "\u001b[1;31mNameError\u001b[0m: name 'simulation' is not defined"
     ]
    }
   ],
   "source": [
    "import sys\n",
    "simulation.minimizeEnergy()\n",
    "simulation.reporters.append(openmm.app.PDBReporter('output.pdb', 100))\n",
    "simulation.reporters.append(openmm.app.StateDataReporter(sys.stdout, 100, step=True,\n",
    "        potentialEnergy=True, temperature=True))\n",
    "simulation.step(1000)"
   ]
  },
  {
   "cell_type": "code",
   "execution_count": 18,
   "metadata": {},
   "outputs": [],
   "source": [
    "simulation.saveState(\"state.dat\")"
   ]
  },
  {
   "cell_type": "code",
   "execution_count": 6,
   "metadata": {},
   "outputs": [],
   "source": [
    "context = openmm.Context(system, integ, platform)"
   ]
  },
  {
   "cell_type": "code",
   "execution_count": 7,
   "metadata": {},
   "outputs": [],
   "source": [
    "context.setPositions(positions)\n",
    "context.setPeriodicBoxVectors(a, b, c)"
   ]
  },
  {
   "cell_type": "code",
   "execution_count": 8,
   "metadata": {},
   "outputs": [],
   "source": [
    "state = context.getState(openmm.State.Energy | openmm.State.Forces)"
   ]
  },
  {
   "cell_type": "code",
   "execution_count": 9,
   "metadata": {},
   "outputs": [
    {
     "ename": "OpenMMException",
     "evalue": "Invoked getPotentialEnergy() on a State which does not contain energies.",
     "output_type": "error",
     "traceback": [
      "\u001b[1;31m---------------------------------------------------------------------------\u001b[0m",
      "\u001b[1;31mOpenMMException\u001b[0m                           Traceback (most recent call last)",
      "\u001b[1;32m~\\AppData\\Local\\Temp\\ipykernel_17104\\2278637247.py\u001b[0m in \u001b[0;36m?\u001b[1;34m()\u001b[0m\n\u001b[1;32m----> 1\u001b[1;33m \u001b[0mene_pot_arrow\u001b[0m \u001b[1;33m=\u001b[0m \u001b[0mstate\u001b[0m\u001b[1;33m.\u001b[0m\u001b[0mgetPotentialEnergy\u001b[0m\u001b[1;33m(\u001b[0m\u001b[1;33m)\u001b[0m\u001b[1;33m\u001b[0m\u001b[1;33m\u001b[0m\u001b[0m\n\u001b[0m",
      "\u001b[1;32mf:\\CONDA_WIN_OPENMM_8.1.1_DEV\\Lib\\site-packages\\openmm\\openmm.py\u001b[0m in \u001b[0;36m?\u001b[1;34m(self)\u001b[0m\n\u001b[0;32m  18625\u001b[0m         r\"\"\"\n\u001b[0;32m  18626\u001b[0m         \u001b[0mgetPotentialEnergy\u001b[0m\u001b[1;33m(\u001b[0m\u001b[0mself\u001b[0m\u001b[1;33m)\u001b[0m \u001b[1;33m->\u001b[0m \u001b[0mdouble\u001b[0m\u001b[1;33m\u001b[0m\u001b[1;33m\u001b[0m\u001b[0m\n\u001b[0;32m  18627\u001b[0m         \u001b[0mGet\u001b[0m \u001b[0mthe\u001b[0m \u001b[0mtotal\u001b[0m \u001b[0mpotential\u001b[0m \u001b[0menergy\u001b[0m \u001b[0mof\u001b[0m \u001b[0mthe\u001b[0m \u001b[0msystem\u001b[0m\u001b[1;33m.\u001b[0m \u001b[0mIf\u001b[0m \u001b[0mthis\u001b[0m \u001b[0mState\u001b[0m \u001b[0mdoes\u001b[0m \u001b[1;32mnot\u001b[0m \u001b[0mcontain\u001b[0m \u001b[0menergies\u001b[0m\u001b[1;33m,\u001b[0m \u001b[0mthis\u001b[0m \u001b[0mwill\u001b[0m \u001b[0mthrow\u001b[0m \u001b[0man\u001b[0m \u001b[0mexception\u001b[0m\u001b[1;33m.\u001b[0m\u001b[1;33m\u001b[0m\u001b[1;33m\u001b[0m\u001b[0m\n\u001b[0;32m  18628\u001b[0m         \"\"\"\n\u001b[1;32m> 18629\u001b[1;33m         \u001b[0mval\u001b[0m \u001b[1;33m=\u001b[0m \u001b[0m_openmm\u001b[0m\u001b[1;33m.\u001b[0m\u001b[0mState_getPotentialEnergy\u001b[0m\u001b[1;33m(\u001b[0m\u001b[0mself\u001b[0m\u001b[1;33m)\u001b[0m\u001b[1;33m\u001b[0m\u001b[1;33m\u001b[0m\u001b[0m\n\u001b[0m\u001b[0;32m  18630\u001b[0m \u001b[1;33m\u001b[0m\u001b[0m\n\u001b[0;32m  18631\u001b[0m         \u001b[0mval\u001b[0m\u001b[1;33m=\u001b[0m\u001b[0munit\u001b[0m\u001b[1;33m.\u001b[0m\u001b[0mQuantity\u001b[0m\u001b[1;33m(\u001b[0m\u001b[0mval\u001b[0m\u001b[1;33m,\u001b[0m \u001b[0munit\u001b[0m\u001b[1;33m.\u001b[0m\u001b[0mkilojoules_per_mole\u001b[0m\u001b[1;33m)\u001b[0m\u001b[1;33m\u001b[0m\u001b[1;33m\u001b[0m\u001b[0m\n\u001b[0;32m  18632\u001b[0m \u001b[1;33m\u001b[0m\u001b[0m\n",
      "\u001b[1;31mOpenMMException\u001b[0m: Invoked getPotentialEnergy() on a State which does not contain energies."
     ]
    }
   ],
   "source": [
    "ene_pot_arrow = state.getPotentialEnergy()"
   ]
  },
  {
   "cell_type": "code",
   "execution_count": 10,
   "metadata": {},
   "outputs": [
    {
     "ename": "OpenMMException",
     "evalue": "Invoked getForces() on a State which does not contain forces.",
     "output_type": "error",
     "traceback": [
      "\u001b[1;31m---------------------------------------------------------------------------\u001b[0m",
      "\u001b[1;31mOpenMMException\u001b[0m                           Traceback (most recent call last)",
      "\u001b[1;32m~\\AppData\\Local\\Temp\\ipykernel_17104\\1203625672.py\u001b[0m in \u001b[0;36m?\u001b[1;34m()\u001b[0m\n\u001b[1;32m----> 1\u001b[1;33m \u001b[0mstate\u001b[0m\u001b[1;33m.\u001b[0m\u001b[0mgetForces\u001b[0m\u001b[1;33m(\u001b[0m\u001b[1;33m)\u001b[0m\u001b[1;33m\u001b[0m\u001b[1;33m\u001b[0m\u001b[0m\n\u001b[0m",
      "\u001b[1;32mf:\\CONDA_WIN_OPENMM_8.1.1_DEV\\Lib\\site-packages\\openmm\\openmm.py\u001b[0m in \u001b[0;36m?\u001b[1;34m(self, asNumpy)\u001b[0m\n\u001b[0;32m  18757\u001b[0m                 \u001b[0mself\u001b[0m\u001b[1;33m.\u001b[0m\u001b[0m_getVectorAsNumpy\u001b[0m\u001b[1;33m(\u001b[0m\u001b[0mState\u001b[0m\u001b[1;33m.\u001b[0m\u001b[0mForces\u001b[0m\u001b[1;33m,\u001b[0m \u001b[0mself\u001b[0m\u001b[1;33m.\u001b[0m\u001b[0m_forcesNumpy\u001b[0m\u001b[1;33m)\u001b[0m\u001b[1;33m\u001b[0m\u001b[1;33m\u001b[0m\u001b[0m\n\u001b[0;32m  18758\u001b[0m                 \u001b[0mself\u001b[0m\u001b[1;33m.\u001b[0m\u001b[0m_forcesNumpy\u001b[0m \u001b[1;33m=\u001b[0m \u001b[0mself\u001b[0m\u001b[1;33m.\u001b[0m\u001b[0m_forcesNumpy\u001b[0m\u001b[1;33m*\u001b[0m\u001b[0munit\u001b[0m\u001b[1;33m.\u001b[0m\u001b[0mkilojoules_per_mole\u001b[0m\u001b[1;33m/\u001b[0m\u001b[0munit\u001b[0m\u001b[1;33m.\u001b[0m\u001b[0mnanometer\u001b[0m\u001b[1;33m\u001b[0m\u001b[1;33m\u001b[0m\u001b[0m\n\u001b[0;32m  18759\u001b[0m             \u001b[1;32mreturn\u001b[0m \u001b[0mself\u001b[0m\u001b[1;33m.\u001b[0m\u001b[0m_forcesNumpy\u001b[0m\u001b[1;33m\u001b[0m\u001b[1;33m\u001b[0m\u001b[0m\n\u001b[0;32m  18760\u001b[0m         \u001b[1;32mif\u001b[0m \u001b[1;34m'_forces'\u001b[0m \u001b[1;32mnot\u001b[0m \u001b[1;32min\u001b[0m \u001b[0mdir\u001b[0m\u001b[1;33m(\u001b[0m\u001b[0mself\u001b[0m\u001b[1;33m)\u001b[0m\u001b[1;33m:\u001b[0m\u001b[1;33m\u001b[0m\u001b[1;33m\u001b[0m\u001b[0m\n\u001b[1;32m> 18761\u001b[1;33m             \u001b[0mself\u001b[0m\u001b[1;33m.\u001b[0m\u001b[0m_forces\u001b[0m \u001b[1;33m=\u001b[0m \u001b[0mself\u001b[0m\u001b[1;33m.\u001b[0m\u001b[0m_getVectorAsVec3\u001b[0m\u001b[1;33m(\u001b[0m\u001b[0mState\u001b[0m\u001b[1;33m.\u001b[0m\u001b[0mForces\u001b[0m\u001b[1;33m)\u001b[0m\u001b[1;33m*\u001b[0m\u001b[0munit\u001b[0m\u001b[1;33m.\u001b[0m\u001b[0mkilojoules_per_mole\u001b[0m\u001b[1;33m/\u001b[0m\u001b[0munit\u001b[0m\u001b[1;33m.\u001b[0m\u001b[0mnanometer\u001b[0m\u001b[1;33m\u001b[0m\u001b[1;33m\u001b[0m\u001b[0m\n\u001b[0m\u001b[0;32m  18762\u001b[0m         \u001b[1;32mreturn\u001b[0m \u001b[0mself\u001b[0m\u001b[1;33m.\u001b[0m\u001b[0m_forces\u001b[0m\u001b[1;33m\u001b[0m\u001b[1;33m\u001b[0m\u001b[0m\n",
      "\u001b[1;32mf:\\CONDA_WIN_OPENMM_8.1.1_DEV\\Lib\\site-packages\\openmm\\openmm.py\u001b[0m in \u001b[0;36m?\u001b[1;34m(self, type)\u001b[0m\n\u001b[0;32m  18769\u001b[0m     \u001b[1;32mdef\u001b[0m \u001b[0m_getVectorAsVec3\u001b[0m\u001b[1;33m(\u001b[0m\u001b[0mself\u001b[0m\u001b[1;33m,\u001b[0m \u001b[0mtype\u001b[0m\u001b[1;33m)\u001b[0m\u001b[1;33m:\u001b[0m\u001b[1;33m\u001b[0m\u001b[1;33m\u001b[0m\u001b[0m\n\u001b[0;32m  18770\u001b[0m         \u001b[1;34mr\"\"\"_getVectorAsVec3(self, type) -> PyObject *\"\"\"\u001b[0m\u001b[1;33m\u001b[0m\u001b[1;33m\u001b[0m\u001b[0m\n\u001b[1;32m> 18771\u001b[1;33m         \u001b[1;32mreturn\u001b[0m \u001b[0m_openmm\u001b[0m\u001b[1;33m.\u001b[0m\u001b[0mState__getVectorAsVec3\u001b[0m\u001b[1;33m(\u001b[0m\u001b[0mself\u001b[0m\u001b[1;33m,\u001b[0m \u001b[0mtype\u001b[0m\u001b[1;33m)\u001b[0m\u001b[1;33m\u001b[0m\u001b[1;33m\u001b[0m\u001b[0m\n\u001b[0m",
      "\u001b[1;31mOpenMMException\u001b[0m: Invoked getForces() on a State which does not contain forces."
     ]
    }
   ],
   "source": [
    "state.getForces()"
   ]
  },
  {
   "cell_type": "code",
   "execution_count": null,
   "metadata": {},
   "outputs": [],
   "source": []
  }
 ],
 "metadata": {
  "kernelspec": {
   "display_name": "Python 3",
   "language": "python",
   "name": "python3"
  },
  "language_info": {
   "codemirror_mode": {
    "name": "ipython",
    "version": 3
   },
   "file_extension": ".py",
   "mimetype": "text/x-python",
   "name": "python",
   "nbconvert_exporter": "python",
   "pygments_lexer": "ipython3",
   "version": "3.11.8"
  }
 },
 "nbformat": 4,
 "nbformat_minor": 2
}
